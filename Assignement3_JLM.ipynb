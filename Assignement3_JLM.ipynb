{
  "nbformat": 4,
  "nbformat_minor": 0,
  "metadata": {
    "colab": {
      "provenance": [],
      "mount_file_id": "1Diwlyk50o7YbQnX-t7xAEx13tohHuqCp",
      "authorship_tag": "ABX9TyM2KW06XhhFc9RbJcQvINGF",
      "include_colab_link": true
    },
    "kernelspec": {
      "name": "python3",
      "display_name": "Python 3"
    },
    "language_info": {
      "name": "python"
    }
  },
  "cells": [
    {
      "cell_type": "markdown",
      "metadata": {
        "id": "view-in-github",
        "colab_type": "text"
      },
      "source": [
        "<a href=\"https://colab.research.google.com/github/jmatt724/InClassAssignment2_JLM/blob/main/Assignement3_JLM.ipynb\" target=\"_parent\"><img src=\"https://colab.research.google.com/assets/colab-badge.svg\" alt=\"Open In Colab\"/></a>"
      ]
    },
    {
      "cell_type": "code",
      "execution_count": 216,
      "metadata": {
        "id": "M4zw2n6KpXcq"
      },
      "outputs": [],
      "source": [
        "import numpy as np\n",
        "import pandas as pd\n",
        "import matplotlib.pyplot as plt\n",
        "import seaborn as sns"
      ]
    },
    {
      "cell_type": "markdown",
      "source": [
        "## Importing the dataset"
      ],
      "metadata": {
        "id": "boomfoAwqVJP"
      }
    },
    {
      "cell_type": "code",
      "source": [
        "dataset = pd.read_csv(\"/content/drive/MyDrive/Colab Notebooks/newhousing.csv\")"
      ],
      "metadata": {
        "id": "cWb4oC1MqUve"
      },
      "execution_count": 217,
      "outputs": []
    },
    {
      "cell_type": "markdown",
      "source": [
        "## Preprocessing"
      ],
      "metadata": {
        "id": "f_KR648yq9Xw"
      }
    },
    {
      "cell_type": "code",
      "source": [
        "dataset.columns"
      ],
      "metadata": {
        "colab": {
          "base_uri": "https://localhost:8080/"
        },
        "id": "7RBV-IXzq83P",
        "outputId": "cff38707-bb9f-4eb3-cea8-a12fd02ca865"
      },
      "execution_count": 218,
      "outputs": [
        {
          "output_type": "execute_result",
          "data": {
            "text/plain": [
              "Index(['price', 'area', 'bedrooms', 'bathrooms', 'stories', 'mainroad',\n",
              "       'guestroom', 'basement', 'hotwaterheating', 'airconditioning',\n",
              "       'parking', 'prefarea', 'semi-furnished', 'unfurnished',\n",
              "       'areaperbedroom', 'bbratio'],\n",
              "      dtype='object')"
            ]
          },
          "metadata": {},
          "execution_count": 218
        }
      ]
    },
    {
      "cell_type": "code",
      "source": [
        "dataset.info()"
      ],
      "metadata": {
        "colab": {
          "base_uri": "https://localhost:8080/"
        },
        "id": "TwhuofC3rk5E",
        "outputId": "51a0f248-b748-476c-bd8a-879aa5d8359d"
      },
      "execution_count": 219,
      "outputs": [
        {
          "output_type": "stream",
          "name": "stdout",
          "text": [
            "<class 'pandas.core.frame.DataFrame'>\n",
            "RangeIndex: 545 entries, 0 to 544\n",
            "Data columns (total 16 columns):\n",
            " #   Column           Non-Null Count  Dtype  \n",
            "---  ------           --------------  -----  \n",
            " 0   price            545 non-null    int64  \n",
            " 1   area             545 non-null    int64  \n",
            " 2   bedrooms         545 non-null    int64  \n",
            " 3   bathrooms        545 non-null    int64  \n",
            " 4   stories          545 non-null    int64  \n",
            " 5   mainroad         545 non-null    int64  \n",
            " 6   guestroom        545 non-null    int64  \n",
            " 7   basement         545 non-null    int64  \n",
            " 8   hotwaterheating  545 non-null    int64  \n",
            " 9   airconditioning  545 non-null    int64  \n",
            " 10  parking          545 non-null    int64  \n",
            " 11  prefarea         545 non-null    int64  \n",
            " 12  semi-furnished   545 non-null    int64  \n",
            " 13  unfurnished      545 non-null    int64  \n",
            " 14  areaperbedroom   545 non-null    float64\n",
            " 15  bbratio          545 non-null    float64\n",
            "dtypes: float64(2), int64(14)\n",
            "memory usage: 68.2 KB\n"
          ]
        }
      ]
    },
    {
      "cell_type": "markdown",
      "source": [
        "### No imputation needed"
      ],
      "metadata": {
        "id": "iCYDeVQyrtu-"
      }
    },
    {
      "cell_type": "markdown",
      "source": [
        "## No Dummy variables needed"
      ],
      "metadata": {
        "id": "13iVvlnFrwOi"
      }
    },
    {
      "cell_type": "code",
      "source": [
        "X = dataset.drop('price', axis = 1)\n",
        "y = dataset['price']"
      ],
      "metadata": {
        "id": "-kz8qwYZsCg3"
      },
      "execution_count": 220,
      "outputs": []
    },
    {
      "cell_type": "markdown",
      "source": [
        "### Feature Scaling"
      ],
      "metadata": {
        "id": "M1yDRa1Xr4SB"
      }
    },
    {
      "cell_type": "code",
      "source": [
        "from sklearn.preprocessing import StandardScaler\n",
        "\n",
        "sc = StandardScaler()\n",
        "X_scaled = sc.fit_transform(X)"
      ],
      "metadata": {
        "id": "q9zz0eWdrs7i"
      },
      "execution_count": 221,
      "outputs": []
    },
    {
      "cell_type": "markdown",
      "source": [
        "### Linear Regression"
      ],
      "metadata": {
        "id": "s4cz0Q_gtB0m"
      }
    },
    {
      "cell_type": "code",
      "source": [
        "from sklearn.linear_model import LinearRegression\n",
        "from sklearn.model_selection import train_test_split\n",
        "\n",
        "X_train, X_test, y_train, y_test = train_test_split(X, y, test_size = 0.3, random_state = 42, shuffle = True)"
      ],
      "metadata": {
        "id": "mF3mcceAs51y"
      },
      "execution_count": 222,
      "outputs": []
    },
    {
      "cell_type": "code",
      "source": [
        "lin_reg = LinearRegression()\n",
        "lin_reg.fit(X_train, y_train)"
      ],
      "metadata": {
        "colab": {
          "base_uri": "https://localhost:8080/"
        },
        "id": "Wf4NR02DtVRI",
        "outputId": "3b62706a-6918-400c-ffc8-be712fc99e7c"
      },
      "execution_count": 223,
      "outputs": [
        {
          "output_type": "execute_result",
          "data": {
            "text/plain": [
              "LinearRegression()"
            ]
          },
          "metadata": {},
          "execution_count": 223
        }
      ]
    },
    {
      "cell_type": "code",
      "source": [],
      "metadata": {
        "id": "33FmHjCfx61Q"
      },
      "execution_count": 223,
      "outputs": []
    },
    {
      "cell_type": "code",
      "source": [
        "lin_reg.score(X_test, y_test)"
      ],
      "metadata": {
        "colab": {
          "base_uri": "https://localhost:8080/"
        },
        "id": "sRDwIqxlteAa",
        "outputId": "551a89fc-b58e-45fe-f3e6-c420d05d72f0"
      },
      "execution_count": 224,
      "outputs": [
        {
          "output_type": "execute_result",
          "data": {
            "text/plain": [
              "0.6814896416143947"
            ]
          },
          "metadata": {},
          "execution_count": 224
        }
      ]
    },
    {
      "cell_type": "code",
      "source": [
        "lin_reg.score(X_train, y_train)"
      ],
      "metadata": {
        "colab": {
          "base_uri": "https://localhost:8080/"
        },
        "id": "-BVjFW7g0-fj",
        "outputId": "0cbc4b4d-4bc8-4b10-bd8e-d0cd99c86b38"
      },
      "execution_count": 225,
      "outputs": [
        {
          "output_type": "execute_result",
          "data": {
            "text/plain": [
              "0.6760953066606615"
            ]
          },
          "metadata": {},
          "execution_count": 225
        }
      ]
    },
    {
      "cell_type": "markdown",
      "source": [
        "## Random Forrest Regression"
      ],
      "metadata": {
        "id": "rS0Zn42qtifZ"
      }
    },
    {
      "cell_type": "code",
      "source": [
        "from sklearn.ensemble import RandomForestRegressor\n",
        "\n",
        "rnd_reg = RandomForestRegressor()\n",
        "\n",
        "rnd_reg.fit(X_train, y_train)"
      ],
      "metadata": {
        "colab": {
          "base_uri": "https://localhost:8080/"
        },
        "id": "SewHcNvrtiAb",
        "outputId": "9124bc47-549d-4544-8e2b-535dabb06f19"
      },
      "execution_count": 226,
      "outputs": [
        {
          "output_type": "execute_result",
          "data": {
            "text/plain": [
              "RandomForestRegressor()"
            ]
          },
          "metadata": {},
          "execution_count": 226
        }
      ]
    },
    {
      "cell_type": "code",
      "source": [
        "rnd_reg.score(X_test, y_test)"
      ],
      "metadata": {
        "colab": {
          "base_uri": "https://localhost:8080/"
        },
        "id": "otzeL1BUt4e6",
        "outputId": "c2f54396-826c-44de-999b-6a5027e10094"
      },
      "execution_count": 227,
      "outputs": [
        {
          "output_type": "execute_result",
          "data": {
            "text/plain": [
              "0.7125164649830784"
            ]
          },
          "metadata": {},
          "execution_count": 227
        }
      ]
    },
    {
      "cell_type": "code",
      "source": [
        "rnd_reg.score(X_train, y_train)"
      ],
      "metadata": {
        "colab": {
          "base_uri": "https://localhost:8080/"
        },
        "id": "L9CwFlJk0tA1",
        "outputId": "1c9261f8-1970-49a1-c91b-138bfff36547"
      },
      "execution_count": 228,
      "outputs": [
        {
          "output_type": "execute_result",
          "data": {
            "text/plain": [
              "0.9363466175333"
            ]
          },
          "metadata": {},
          "execution_count": 228
        }
      ]
    },
    {
      "cell_type": "markdown",
      "source": [
        "### Random Forest is overfitting"
      ],
      "metadata": {
        "id": "va1epnz51IFG"
      }
    },
    {
      "cell_type": "markdown",
      "source": [],
      "metadata": {
        "id": "sZoOaOPt0sBx"
      }
    },
    {
      "cell_type": "markdown",
      "source": [
        "## PCA with Linear Regression"
      ],
      "metadata": {
        "id": "-crZ2TyXuBTx"
      }
    },
    {
      "cell_type": "code",
      "source": [
        "from sklearn.preprocessing import StandardScaler\n",
        "\n",
        "sc_x = StandardScaler()\n",
        "sc_y = StandardScaler()\n",
        "X_scaled = sc_x.fit_transform(X)\n",
        "y_scaled = sc_y.fit_transform(dataset[['price']])"
      ],
      "metadata": {
        "id": "WLT2OXzRuFrP"
      },
      "execution_count": 229,
      "outputs": []
    },
    {
      "cell_type": "code",
      "source": [
        "from sklearn.decomposition import PCA\n",
        "\n",
        "pca = PCA(n_components = 2)\n",
        "pca.fit(X_scaled)\n",
        "x_pca = pca.transform(X_scaled)"
      ],
      "metadata": {
        "id": "Vw5BLTgSuTit"
      },
      "execution_count": 230,
      "outputs": []
    },
    {
      "cell_type": "code",
      "source": [
        "X_train, X_test, y_train, y_test = train_test_split(x_pca, y_scaled, test_size = 0.20, random_state=42, shuffle = True)"
      ],
      "metadata": {
        "id": "sR-iKCAaufFP"
      },
      "execution_count": 231,
      "outputs": []
    },
    {
      "cell_type": "code",
      "source": [
        "pca_lin_reg = LinearRegression()\n",
        "pca_lin_reg.fit(X_train, y_train)"
      ],
      "metadata": {
        "colab": {
          "base_uri": "https://localhost:8080/"
        },
        "id": "TGuZcVsPv6VH",
        "outputId": "c199da82-5e14-4626-d831-c7e755a06559"
      },
      "execution_count": 232,
      "outputs": [
        {
          "output_type": "execute_result",
          "data": {
            "text/plain": [
              "LinearRegression()"
            ]
          },
          "metadata": {},
          "execution_count": 232
        }
      ]
    },
    {
      "cell_type": "code",
      "source": [
        "pca_lin_reg.score(X_test, y_test)"
      ],
      "metadata": {
        "colab": {
          "base_uri": "https://localhost:8080/"
        },
        "id": "vOH0NYuZwB5K",
        "outputId": "97637f06-1a36-47b9-9bed-bcdc4ab8508a"
      },
      "execution_count": 233,
      "outputs": [
        {
          "output_type": "execute_result",
          "data": {
            "text/plain": [
              "0.6444402044504696"
            ]
          },
          "metadata": {},
          "execution_count": 233
        }
      ]
    },
    {
      "cell_type": "code",
      "source": [
        "pca_lin_reg.score(X_train, y_train)"
      ],
      "metadata": {
        "colab": {
          "base_uri": "https://localhost:8080/"
        },
        "id": "0pM1Uyog1Oup",
        "outputId": "2e34d6e0-9c06-4750-eea4-b5c1797cb0ef"
      },
      "execution_count": 236,
      "outputs": [
        {
          "output_type": "execute_result",
          "data": {
            "text/plain": [
              "0.6480907854037373"
            ]
          },
          "metadata": {},
          "execution_count": 236
        }
      ]
    },
    {
      "cell_type": "markdown",
      "source": [
        "## PCA with Random Forest"
      ],
      "metadata": {
        "id": "XoLlMEVHwIYt"
      }
    },
    {
      "cell_type": "code",
      "source": [
        "pca_rnd_reg = RandomForestRegressor()\n",
        "pca_rnd_reg.fit(X_train, y_train)"
      ],
      "metadata": {
        "colab": {
          "base_uri": "https://localhost:8080/"
        },
        "id": "2FwKyNP1wMrM",
        "outputId": "860c5b5f-e015-47fa-b7a4-73dfca50fab3"
      },
      "execution_count": 234,
      "outputs": [
        {
          "output_type": "stream",
          "name": "stderr",
          "text": [
            "/usr/local/lib/python3.7/dist-packages/ipykernel_launcher.py:2: DataConversionWarning: A column-vector y was passed when a 1d array was expected. Please change the shape of y to (n_samples,), for example using ravel().\n",
            "  \n"
          ]
        },
        {
          "output_type": "execute_result",
          "data": {
            "text/plain": [
              "RandomForestRegressor()"
            ]
          },
          "metadata": {},
          "execution_count": 234
        }
      ]
    },
    {
      "cell_type": "code",
      "source": [
        "pca_rnd_reg.score(X_test, y_test)"
      ],
      "metadata": {
        "colab": {
          "base_uri": "https://localhost:8080/"
        },
        "id": "u-D9IYLbwWud",
        "outputId": "68ef13a6-81a8-48a0-b9fa-c2c7f8b7f844"
      },
      "execution_count": 235,
      "outputs": [
        {
          "output_type": "execute_result",
          "data": {
            "text/plain": [
              "0.5985646955959366"
            ]
          },
          "metadata": {},
          "execution_count": 235
        }
      ]
    },
    {
      "cell_type": "code",
      "source": [
        "pca_rnd_reg.score(X_train, y_train)"
      ],
      "metadata": {
        "colab": {
          "base_uri": "https://localhost:8080/"
        },
        "id": "uTlQD6OM1SlH",
        "outputId": "6d1654d3-1766-4d49-dde6-d9153dabc12e"
      },
      "execution_count": 238,
      "outputs": [
        {
          "output_type": "execute_result",
          "data": {
            "text/plain": [
              "0.9372982415088245"
            ]
          },
          "metadata": {},
          "execution_count": 238
        }
      ]
    },
    {
      "cell_type": "markdown",
      "source": [
        "# For my experiment I found that Random Forest had the best score with 71% but it overfits. Therefore the best model that doesn't overfit is Linear Regression with 68%"
      ],
      "metadata": {
        "id": "yB3JB8tJyOpm"
      }
    }
  ]
}